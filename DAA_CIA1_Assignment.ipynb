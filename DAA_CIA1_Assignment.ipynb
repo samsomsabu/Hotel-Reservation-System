{
  "nbformat": 4,
  "nbformat_minor": 0,
  "metadata": {
    "colab": {
      "provenance": [],
      "authorship_tag": "ABX9TyP5il46+NdiAjfYZti1r9Hr",
      "include_colab_link": true
    },
    "kernelspec": {
      "name": "python3",
      "display_name": "Python 3"
    },
    "language_info": {
      "name": "python"
    }
  },
  "cells": [
    {
      "cell_type": "markdown",
      "metadata": {
        "id": "view-in-github",
        "colab_type": "text"
      },
      "source": [
        "<a href=\"https://colab.research.google.com/github/samsomsabu/Hotel-Reservation-System/blob/main/DAA_CIA1_Assignment.ipynb\" target=\"_parent\"><img src=\"https://colab.research.google.com/assets/colab-badge.svg\" alt=\"Open In Colab\"/></a>"
      ]
    },
    {
      "cell_type": "code",
      "execution_count": 1,
      "metadata": {
        "id": "MuugAWCsctKi"
      },
      "outputs": [],
      "source": [
        "import random\n"
      ]
    },
    {
      "cell_type": "code",
      "source": [
        "def insertion_sort(arr):\n",
        "    for i in range(1, len(arr)):\n",
        "        key = arr[i]\n",
        "        j = i - 1\n",
        "        while j >= 0 and key < arr[j]:\n",
        "            arr[j + 1] = arr[j]\n",
        "            j -= 1\n",
        "        arr[j + 1] = key\n"
      ],
      "metadata": {
        "id": "0eAEzG__cx0y"
      },
      "execution_count": 2,
      "outputs": []
    },
    {
      "cell_type": "code",
      "source": [
        "def selection_sort(arr):\n",
        "    for i in range(len(arr)):\n",
        "        min_index = i\n",
        "        for j in range(i + 1, len(arr)):\n",
        "            if arr[j] < arr[min_index]:\n",
        "                min_index = j\n",
        "        arr[i], arr[min_index] = arr[min_index], arr[i]\n"
      ],
      "metadata": {
        "id": "Y0kayWHTc07D"
      },
      "execution_count": 3,
      "outputs": []
    },
    {
      "cell_type": "code",
      "source": [
        "def generate_random_array(size):\n",
        "    return [random.randint(1, 100) for _ in range(size)]\n"
      ],
      "metadata": {
        "id": "XPAqBQfIc3TJ"
      },
      "execution_count": 4,
      "outputs": []
    },
    {
      "cell_type": "code",
      "source": [
        "array_size = 10\n",
        "random_array = generate_random_array(array_size)\n"
      ],
      "metadata": {
        "id": "wilxMkcIc5Rh"
      },
      "execution_count": 5,
      "outputs": []
    },
    {
      "cell_type": "code",
      "source": [
        "print(\"Original Array:\", random_array)\n"
      ],
      "metadata": {
        "colab": {
          "base_uri": "https://localhost:8080/"
        },
        "id": "1TNgJfzAc7n_",
        "outputId": "71fc6974-5132-4e94-a7bd-5d6e5dfa8b70"
      },
      "execution_count": 6,
      "outputs": [
        {
          "output_type": "stream",
          "name": "stdout",
          "text": [
            "Original Array: [64, 35, 53, 1, 76, 12, 52, 65, 84, 21]\n"
          ]
        }
      ]
    },
    {
      "cell_type": "code",
      "source": [
        "insertion_sorted_array = random_array.copy()\n",
        "insertion_sort(insertion_sorted_array)\n",
        "print(\"Insertion Sorted Array:\", insertion_sorted_array)\n"
      ],
      "metadata": {
        "colab": {
          "base_uri": "https://localhost:8080/"
        },
        "id": "QA2KKJGcc-IZ",
        "outputId": "ca51b32e-2ab7-43c2-9928-330ce482db59"
      },
      "execution_count": 8,
      "outputs": [
        {
          "output_type": "stream",
          "name": "stdout",
          "text": [
            "Insertion Sorted Array: [1, 12, 21, 35, 52, 53, 64, 65, 76, 84]\n"
          ]
        }
      ]
    },
    {
      "cell_type": "code",
      "source": [
        "selection_sorted_array = random_array.copy()\n",
        "selection_sort(selection_sorted_array)\n",
        "print(\"Selection Sorted Array:\", selection_sorted_array)\n"
      ],
      "metadata": {
        "colab": {
          "base_uri": "https://localhost:8080/"
        },
        "id": "6xjB8pnudCou",
        "outputId": "bfd2db91-c35b-4ec4-fd6a-92819ab8831a"
      },
      "execution_count": 9,
      "outputs": [
        {
          "output_type": "stream",
          "name": "stdout",
          "text": [
            "Selection Sorted Array: [1, 12, 21, 35, 52, 53, 64, 65, 76, 84]\n"
          ]
        }
      ]
    },
    {
      "cell_type": "code",
      "source": [],
      "metadata": {
        "id": "2LSch4yVdH2a"
      },
      "execution_count": null,
      "outputs": []
    }
  ]
}